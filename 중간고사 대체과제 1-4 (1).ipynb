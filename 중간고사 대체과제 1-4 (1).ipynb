{
 "cells": [
  {
   "cell_type": "code",
   "execution_count": 11,
   "id": "f4dac37d-1289-4d49-8013-b18a2e6f110f",
   "metadata": {},
   "outputs": [
    {
     "name": "stdout",
     "output_type": "stream",
     "text": [
      "['쌍', '쇠', '복', '돌', '팽', '육', '쌍', '개', '칠', '갑', '삼', '방']\n"
     ]
    }
   ],
   "source": [
    "month_characters = ['쌍', '쇠', '복', '돌', '팽', '육', '쌍', '개', '칠', '갑', '삼', '방']\n",
    "print(month_characters)"
   ]
  },
  {
   "cell_type": "code",
   "execution_count": 13,
   "id": "229fae6b-0c80-428e-8816-32fe97a58ebf",
   "metadata": {},
   "outputs": [
    {
     "name": "stdout",
     "output_type": "stream",
     "text": [
      "['봉', '구', '욕', '포', '똥', '삼', '식', '석', '놈', '님', '년', '돌', '단', '득', '방', '질', '장', '걸', '래', '룡', '동', '순', '자', '박', '창', '언', '것', '포', '만', '단', '국']\n"
     ]
    }
   ],
   "source": [
    "day_characters = [\n",
    "    '봉', '구', '욕', '포', '똥', '삼', '식', '석', '놈', '님', '년', '돌', '단', '득', '방',\n",
    "    '질', '장', '걸', '래', '룡', '동', '순', '자', '박', '창', '언', '것', '포', '만', '단', '국'\n",
    "]\n",
    "print(day_characters)"
   ]
  },
  {
   "cell_type": "code",
   "execution_count": 66,
   "id": "45774fa1-b8aa-4835-af3f-29fb4a2a728e",
   "metadata": {},
   "outputs": [],
   "source": [
    "def get_my_chosun_name(family_name, month, day):\n",
    "    month = month_characters[month-1]\n",
    "    day = day_characters[day-1]\n",
    "    return '당신의 조선시대 이름은 ' + family_name + month + day + ' 입니다.'"
   ]
  },
  {
   "cell_type": "code",
   "execution_count": 68,
   "id": "8290323e-061e-4735-9f5c-42462dc9f27b",
   "metadata": {},
   "outputs": [
    {
     "name": "stdout",
     "output_type": "stream",
     "text": [
      "당신의 조선시대 이름은 위갑자 입니다.\n"
     ]
    }
   ],
   "source": [
    "print(get_my_chosun_name('위', 10, 23)) "
   ]
  }
 ],
 "metadata": {
  "kernelspec": {
   "display_name": "Python 3 (ipykernel)",
   "language": "python",
   "name": "python3"
  },
  "language_info": {
   "codemirror_mode": {
    "name": "ipython",
    "version": 3
   },
   "file_extension": ".py",
   "mimetype": "text/x-python",
   "name": "python",
   "nbconvert_exporter": "python",
   "pygments_lexer": "ipython3",
   "version": "3.12.4"
  }
 },
 "nbformat": 4,
 "nbformat_minor": 5
}
